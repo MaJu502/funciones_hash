{
 "cells": [
  {
   "cell_type": "markdown",
   "metadata": {},
   "source": [
    "# Ejercicio en clase de funciones de hash"
   ]
  },
  {
   "cell_type": "markdown",
   "metadata": {},
   "source": [
    "Marco Jurado 20308"
   ]
  },
  {
   "cell_type": "markdown",
   "metadata": {},
   "source": [
    "## Investigación"
   ]
  },
  {
   "cell_type": "markdown",
   "metadata": {},
   "source": [
    "Las funciones hash son aquellas que toman una entrada y van a devolver una cadena de longitud fija el cual es único dependiendo de cada uno de los caracteres de la entrada. Es por esto que dichas funciones nos devolveran un codigo único para cada entrada aún así le cambiemos lo más mínimo. Esto permite que podamos identificar cambios en cualquier bit del mismo y tomar las debidas precauciones para poder determinar si el archivo enviado o recibido corresponde al cual nos estan enviando. Este proceso se utiliza para poder realizar la verificación de cualquier tipo de documento o texto hasheado con la función para poder determinar la veracidad y la integridad de la información contenida en el mismo. <br><br>\n",
    "Algunas de las funciones hash más comunes son: MD5, SHA 1, SHA 2, SHA 3 y Blake. Estas han sido utilizadas y cuentan con sus pequeñas fortaleces y debilidades. Por ejemplo en el caso del algoritmo MD5 se cuenta con la vulnerabilidad de ataques de colisión. Esto es generado u ocasionado al saber que el algoritmo genera codigos hash iguales y esto crea una colisión por lo cual el mismo algoritmo no es seguro (Gewarren, 2023). Si hacemos una comparación entre las funciones hash MD5 y SHA-256 podemos mencionar lo siguiente:\n",
    "- MD5: Produce un valor hash de 128 bits. Fue ampliamente utilizado debido a su velocidad y simplicidad. Sin embargo, ha sido vulnerado en términos de seguridad y ya no se considera seguro para aplicaciones críticas.\n",
    "- SHA-256: Parte de la familia SHA-2, produce un valor hash de 256 bits, lo que le proporciona una mayor seguridad frente a ataques de colisión (donde dos entradas distintas producen el mismo valor hash).\n",
    "\n",
    "Ahora vamos a realizra una comparación de tiempo de la función MD5 y SHA-256 utilizando el archivo 'documento.txt' adjunto al ejercicio."
   ]
  },
  {
   "cell_type": "code",
   "execution_count": null,
   "metadata": {},
   "outputs": [],
   "source": []
  },
  {
   "cell_type": "markdown",
   "metadata": {},
   "source": [
    "#### Bibliografía\n",
    " - Gomez, E. E. P. (2023, May 19). MD5 vs sha-1 vs SHA-2: ¿cuál es el hash cifrado más seguro y cómo verificarlos?. freeCodeCamp.org. https://www.freecodecamp.org/espanol/news/md5-vs-sha-1-vs-sha-2-cual-es-el-hash-cifrado-mas-seguro-y-como-verificarlos/\n",
    "\n",
    " - Donohue, B., Stern, A., Grustniy, L., Svistunova, O., & Diazgranados, H. (n.d.). ¿Qué es un hash y cómo funciona?. Daily Spanish LatAm latamkasperskycomblog. https://latam.kaspersky.com/blog/que-es-un-hash-y-como-funciona/2806/\n",
    "\n",
    " - Gewarren. (n.d.). CA5351: No Usar Algoritmos Criptográficos Dañados (Análisis de Código) - .NET. CA5351: No usar algoritmos criptográficos dañados (análisis de código) - .NET | Microsoft Learn. https://learn.microsoft.com/es-es/dotnet/fundamentals/code-analysis/quality-rules/ca5351\n",
    "\n",
    " - "
   ]
  },
  {
   "cell_type": "markdown",
   "metadata": {},
   "source": [
    "## Aplicación"
   ]
  },
  {
   "cell_type": "code",
   "execution_count": 1,
   "metadata": {},
   "outputs": [],
   "source": [
    "# imports"
   ]
  },
  {
   "cell_type": "code",
   "execution_count": null,
   "metadata": {},
   "outputs": [],
   "source": []
  },
  {
   "cell_type": "markdown",
   "metadata": {},
   "source": [
    "## Corroboración\n"
   ]
  }
 ],
 "metadata": {
  "kernelspec": {
   "display_name": "Python 3",
   "language": "python",
   "name": "python3"
  },
  "language_info": {
   "codemirror_mode": {
    "name": "ipython",
    "version": 3
   },
   "file_extension": ".py",
   "mimetype": "text/x-python",
   "name": "python",
   "nbconvert_exporter": "python",
   "pygments_lexer": "ipython3",
   "version": "3.10.5"
  }
 },
 "nbformat": 4,
 "nbformat_minor": 2
}
